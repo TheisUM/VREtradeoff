{
 "cells": [
  {
   "cell_type": "markdown",
   "metadata": {},
   "source": [
    "## Initialize\n",
    "1) relevant packages neede"
   ]
  },
  {
   "cell_type": "code",
   "execution_count": null,
   "metadata": {},
   "outputs": [],
   "source": [
    "# Used packages\n",
    "import pandas as pd\n",
    "import numpy as np\n",
    "from Functions import gdx_to_dict\n",
    "from Functions import distance\n",
    "import matplotlib.pyplot as plt\n",
    "import matplotlib.patches as mpatches\n",
    "import plotly.graph_objects as go\n",
    "from Dictionaries import fuel_colors\n",
    "from Dictionaries import fuel_labels\n",
    "from Dictionaries import area_to_region\n",
    "import geopandas as gpd\n",
    "import cartopy.crs as ccrs\n",
    "import seaborn as sns\n",
    "from geopy.geocoders import Nominatim"
   ]
  },
  {
   "cell_type": "markdown",
   "metadata": {},
   "source": [
    "2) load .GDX files from scenarios"
   ]
  },
  {
   "cell_type": "code",
   "execution_count": 2,
   "metadata": {},
   "outputs": [
    {
     "name": "stderr",
     "output_type": "stream",
     "text": [
      "c:\\Users\\tmad\\GitHub\\VREtradeoff\\Functions.py:45: UserWarning: The GAMS version (46.2.0) differs from the API version (49.2.0).\n",
      "  ws = gams.GamsWorkspace(system_directory=gams_sys_dir)\n"
     ]
    },
    {
     "name": "stdout",
     "output_type": "stream",
     "text": [
      "Finished, making dictionary of dataframes.\n",
      "\n"
     ]
    }
   ],
   "source": [
    "# Scenarios in GDX files contain three parameters with varying levels: Biomass availability, VRE resource, and fuel demand\n",
    "# The following lists contain the scenarios in the GDX files\n",
    "# The first letter refers to biomass avialability, the second to VRE resource, and the third to fuel demand, high, medium, or low\n",
    "scenarios = ['HMM','MMM','LMM','HHM','MHM','LHM','HLM','MLM','LLM']\n",
    "order_scenarios = ['LLM', 'LMM', 'LHM', 'MLM', 'MMM', 'MHM', 'HLM', 'HMM', 'HHM']\n",
    "#scenarios = ['HMH','MMH','LMH','HHH','MHH','LHH','HLH','MLH','LLH']\n",
    "\n",
    "symbolBal = ['G_CAP_YCRAF','CC_YCRAG','F_CONS_YCRA','OBJ_YCR','X_CAP_YCR','XH2_CAP_YCR','PRO_YCRAGF','XH2_FLOW_YCR','X_FLOW_YCR']\n",
    "symbolOpti = ['VFLOWSOURCE_Opti_C','VFLOWTRANS_Opti_C','VFLOW_Opti_C','VFLOWCCU_C','VFLOW_Opti_A']\n",
    "\n",
    "gams_directory = 'C:\\\\GAMS\\\\46'\n",
    "file_path = 'C:\\\\Users\\\\tmad\\\\GitHub\\\\pap1-code\\\\Files'\n",
    "\n",
    "GDXs = gdx_to_dict(symbolBal,symbolOpti,order_scenarios,gams_directory,file_path)\n",
    "\n",
    "#res = MainResults(files=['MainResults_HHM.gdx','MainResults_HMM.gdx','MainResults_HLM.gdx','MainResults_MHM.gdx','MainResults_MMM.gdx','MainResults_MLM.gdx','MainResults_LHM.gdx','MainResults_LMM.gdx','MainResults_LLM.gdx'],\n",
    "#                  paths=file_path,scenario_names=['HHM','HMM','HLM','MHM','MMM','MLM','LHM','LMM','LLM'])\n"
   ]
  },
  {
   "cell_type": "markdown",
   "metadata": {},
   "source": [
    "## Fuel production\n",
    "To assess the impact of the parameters investigated (biomass, VRE, and demand), it is important to first show a baseline of which fuels are produced.\n",
    "We also assess the distribution between biofuels, e-biofuels, and e-fuels."
   ]
  },
  {
   "cell_type": "code",
   "execution_count": 3,
   "metadata": {},
   "outputs": [],
   "source": [
    "df_fp = GDXs['VFLOW_Opti_C']\n",
    "df_fp.rename(columns={'level_0':'Year','level_1':'Country','level_2':'Fuel','level_3':'Demand','level_4':'Flow'},inplace=True)\n",
    "demands = ['Air_fuels_sum','Road_fuels_sum','Sea_fuels_sum']\n",
    "fuelproduction = df_fp[(df_fp['Demand'].isin(demands))]\n",
    "years = fuelproduction['Year'].unique()\n",
    "fuels = fuelproduction['Fuel'].unique()\n",
    "# Group by Year, Scenario, and ProcFrom, then sum the values\n",
    "fuelproduction_grouped = fuelproduction.groupby(['Year', 'Scenario', 'Fuel'])['Value'].sum().unstack()\n",
    "# Reorder the index to the desired order\n",
    "#order_scenarios = ['LLH', 'LMH', 'LHH', 'MLH', 'MMH', 'MHH', 'HLH', 'HMH', 'HHH']\n",
    "order_fuels = ['Ammonia_Eff','EMethanol_Eff','EME_LPG_Eff','EME_Gasoline_Eff','EME_Jet_Eff','BioGasoline_Eff','BioJet_Eff']\n",
    "fuels_label = ['Ammonia_Eff','EMethanol_Eff','EME_Jet_Eff','BioJet_Eff']\n",
    "order_colors = [fuel_colors[fuel] for fuel in order_fuels]\n",
    "order_labels = [fuel_labels[fuel] for fuel in order_fuels]\n",
    "colors_leg = [fuel_colors[fuel] for fuel in fuels_label]\n",
    "label_leg = [fuel_labels[fuel] for fuel in fuels_label]\n",
    "legend_patches = [mpatches.Patch(color=color, label=label) for color, label in zip(colors_leg[::-1], label_leg[::-1])]\n",
    "fuelproduction_grouped = fuelproduction_grouped.reindex(order_scenarios, level='Scenario')\n",
    "fuelproduction_grouped = fuelproduction_grouped.reindex(order_fuels, axis=1)\n",
    "# Convert all values in the dataframe from PJ to TWh (1 PJ = 0.27778 TWh)\n",
    "fuelproduction_grouped = fuelproduction_grouped * 0.27778\n",
    "#fuelproduction_grouped.drop(columns=['Methanol_Eff'], inplace=True)\n"
   ]
  },
  {
   "cell_type": "markdown",
   "metadata": {},
   "source": [
    "2) We furter find the distribution between biofuels, e-biofuels, and e-fuels."
   ]
  },
  {
   "cell_type": "code",
   "execution_count": 4,
   "metadata": {},
   "outputs": [
    {
     "name": "stderr",
     "output_type": "stream",
     "text": [
      "C:\\Users\\tmad\\AppData\\Local\\Temp\\ipykernel_18716\\2479274772.py:6: SettingWithCopyWarning: \n",
      "A value is trying to be set on a copy of a slice from a DataFrame.\n",
      "Try using .loc[row_indexer,col_indexer] = value instead\n",
      "\n",
      "See the caveats in the documentation: https://pandas.pydata.org/pandas-docs/stable/user_guide/indexing.html#returning-a-view-versus-a-copy\n",
      "  biojetprod['Fuel'] = biojetprod['Flow'].apply(lambda x: 'Biofuel' if x in bfset else 'E-biofuel')\n",
      "C:\\Users\\tmad\\AppData\\Local\\Temp\\ipykernel_18716\\2479274772.py:19: SettingWithCopyWarning: \n",
      "A value is trying to be set on a copy of a slice from a DataFrame.\n",
      "Try using .loc[row_indexer,col_indexer] = value instead\n",
      "\n",
      "See the caveats in the documentation: https://pandas.pydata.org/pandas-docs/stable/user_guide/indexing.html#returning-a-view-versus-a-copy\n",
      "  methanolupg['Fuel'] = methanolupg['Fuel'].apply(lambda x: 'E-biofuel' if x == 'MethanolTotal' else 'E-fuel')\n"
     ]
    }
   ],
   "source": [
    "## First we split biojet products\n",
    "# Isolate biojet and split between biofuel and e-biofuel\n",
    "bfset = ['BIOJETFLOW_BIO','BIOGASOLINEFLOW_BJ']\n",
    "ebfset = ['BIOJETFLOW_H2','BIOGASOLINEFLOW_BJ_H2']\n",
    "biojetprod = df_fp[(df_fp['Demand'].isin(['BioJet_SUM','BioGasoline_SUM']))]\n",
    "biojetprod['Fuel'] = biojetprod['Flow'].apply(lambda x: 'Biofuel' if x in bfset else 'E-biofuel')\n",
    "biojetprod_grouped = biojetprod.groupby(['Year', 'Scenario', 'Fuel'])['Value'].sum().unstack()\n",
    "biojetprod_grouped = biojetprod_grouped.reindex(order_scenarios, level='Scenario')\n",
    "biojetprod_grouped.fillna(0,inplace=True)\n",
    "\n",
    "## Next we split upgraded methanol gasoline products\n",
    "# Isolate methanol upgrading and split between e-biofuel and e-fuel (share)\n",
    "methanolset = ['MethanolTotal','EMethanolTotal']\n",
    "# upgrade input\n",
    "methanolupg = df_fp[(df_fp['Demand'] == 'Methanol_Sum')]\n",
    "# upgrade output\n",
    "upgsum = df_fp[(df_fp['Fuel'] == 'EME_Upgrade_Sum')]\n",
    "# find share of e-methanol to bio-methanol for upgrading\n",
    "methanolupg['Fuel'] = methanolupg['Fuel'].apply(lambda x: 'E-biofuel' if x == 'MethanolTotal' else 'E-fuel')\n",
    "methanolupg_grouped = methanolupg.groupby(['Year', 'Scenario', 'Fuel'])['Value'].sum().unstack()\n",
    "methanolupg_grouped = methanolupg_grouped.reindex(order_scenarios, level='Scenario')\n",
    "upgraded_methanol = methanolupg_grouped.div(methanolupg_grouped.sum(axis=1), axis=0)\n",
    "#upgraded_methanol.fillna(0,inplace=True)\n",
    "# order total methanol upgrading\n",
    "upgsum_grouped = upgsum.groupby(['Year', 'Scenario', 'Fuel'])['Value'].sum().unstack()\n",
    "upgsum_grouped = upgsum_grouped.reindex(order_scenarios, level='Scenario')\n",
    "# split total methanol upgrading between e-biofuel and e-fuel\n",
    "upgraded_methanol['E-fuel'] = upgraded_methanol['E-fuel'] * upgsum_grouped['EME_Upgrade_Sum']\n",
    "try:\n",
    "    upgraded_methanol['E-biofuel'] = upgraded_methanol['E-biofuel'] * upgsum_grouped['EME_Upgrade_Sum']\n",
    "except:\n",
    "    pass\n",
    "#upgraded_methanol['E-biofuel'] = upgraded_methanol['E-biofuel'] * upgsum_grouped['EME_Upgrade_Sum']\n",
    "upgraded_methanol = upgraded_methanol.reindex(order_scenarios, level='Scenario')\n",
    "upgraded_methanol.fillna(0,inplace=True)\n",
    "\n",
    "\n",
    "# Take remainder fuels that don't need splitting\n",
    "ebiofuels = ['Methanol_Eff']\n",
    "efuels = ['EMethanol_Eff','Ammonia_Eff','E_FT_Jet_Eff','E_FT_Diesel_Eff']\n",
    "mix = ['BioJet_Eff','BioGasoline_Eff','EME_LPG_Eff','EME_Gasoline_Eff','EME_Jet_Eff']\n",
    "\n",
    "aggfuelproduction = fuelproduction.copy()\n",
    "aggfuelproduction = aggfuelproduction[~aggfuelproduction['Fuel'].isin(mix)]\n",
    "aggfuelproduction['Fuel'] = aggfuelproduction['Fuel'].apply(lambda x: 'E-fuel' if x in efuels else ('E-biofuel' if x in ebiofuels else 'Biofuel'))\n",
    "aggfuelproduction_grouped = aggfuelproduction.groupby(['Year', 'Scenario', 'Fuel'])['Value'].sum().unstack()\n",
    "aggfuelproduction_grouped = aggfuelproduction_grouped.reindex(order_scenarios, level='Scenario')\n",
    "#aggfuelproduction_grouped['Biofuel'] = 0\n",
    "aggfuelproduction_grouped.fillna(0,inplace=True)\n",
    "# Align dataframes\n",
    "dfmain,dfalign = aggfuelproduction_grouped.align(upgraded_methanol,fill_value=0)\n",
    "df = dfmain + dfalign\n",
    "dfmain2,dfalign2 = df.align(biojetprod_grouped,fill_value=0)\n",
    "df2= dfmain2 + dfalign2\n",
    "df2 = df2.reindex(order_scenarios, level='Scenario')\n",
    "df2 = df2.reindex(['E-fuel','E-biofuel','Biofuel'],axis=1)\n",
    "# Normalize the values to sum to 1\n",
    "combined_fuelproduction_normalized = df2.div(df2.sum(axis=1), axis=0)\n",
    "\n"
   ]
  },
  {
   "cell_type": "markdown",
   "metadata": {},
   "source": [
    "3) We then plot the two in a combined plot."
   ]
  },
  {
   "cell_type": "code",
   "execution_count": 5,
   "metadata": {},
   "outputs": [
    {
     "data": {
      "image/png": "[encoded data removed]",
      "text/plain": [
       "<Figure size 1000x600 with 2 Axes>"
      ]
     },
     "metadata": {},
     "output_type": "display_data"
    }
   ],
   "source": [
    "plt.rcParams[\"font.family\"] = \"serif\"\n",
    "# Create a figure with two subplots, one on top of the other\n",
    "fig, (ax1, ax2) = plt.subplots(2, 1, figsize=(10, 6),height_ratios=[4, 1])\n",
    "\n",
    "# Plot the first chart (Fuel Production by Year and Scenario)\n",
    "fuelproduction_grouped.plot(kind='bar', stacked=True, color=order_colors, width=0.85, ax=ax1)\n",
    "# Set the title and labels for the first chart\n",
    "ax1.set_ylabel('Production [TWh]',fontsize='large')\n",
    "ax1.set_xlabel('')\n",
    "ax1.tick_params(axis='x', bottom=False, labelbottom=False)\n",
    "ax1.legend(handles=legend_patches, loc='upper left',fontsize='medium')\n",
    "sec1 = ax1.secondary_xaxis(location=0)\n",
    "sec1.set_xticks([-0.5,8.5, 17.5, 26.5],labels=[])\n",
    "sec1.tick_params('x',length=10,width=0.75)\n",
    "sec11 = ax1.secondary_xaxis(location=0)\n",
    "sec11.set_xticks([2.5,5.5,11.5,14.5,20.5,23.5],labels=[])\n",
    "sec11.tick_params('x',length=5,width=0.75)\n",
    "\n",
    "# Add dashed lines for each 1000 on the y-axis for the first chart\n",
    "for y in np.arange(200, 1200, 200):\n",
    "    ax1.axhline(y=y, color='black', linestyle=(0, (5, 5)), linewidth=0.8, zorder=0)\n",
    "\n",
    "# Plot the second chart (Share of Bio-fuels and E-fuels by Year and Scenario)\n",
    "combined_fuelproduction_normalized.plot(kind='bar', stacked=True, color=['khaki','limegreen','green'], width=0.85, ax=ax2)\n",
    "legend_patches2 = [mpatches.Patch(color=color, label=label) for color, label in zip(['green','limegreen','khaki'], ['Biofuels','E-biofuels','E-fuels'])]\n",
    "# Set the title and labels for the second chart\n",
    "ax2.set_xlabel('')\n",
    "ax2.set_ylabel('Production [%]',fontsize='large')\n",
    "ax2.tick_params(axis='x', bottom=False, labelbottom=False)\n",
    "ax2.legend(handles=legend_patches2, loc='upper left',fontsize='medium')\n",
    "sec2 = ax2.secondary_xaxis(location=0)\n",
    "sec2.set_xticks([-0.5,8.5, 17.5, 26.5],labels=[])\n",
    "sec2.tick_params('x',length=25,width=0.75)\n",
    "sec21 = ax2.secondary_xaxis(location=0)\n",
    "sec21.set_xticks([2.5,5.5,11.5,14.5,20.5,23.5],labels=[])\n",
    "sec21.tick_params('x',length=10,width=0.75)\n",
    "sec22 = ax2.secondary_xaxis(location=0)\n",
    "sec22.set_xticks([4,13,22],labels=['2030','2040','2050'])\n",
    "sec22.tick_params('x',length=0,width=0.75, pad=30)\n",
    "sec23 = ax2.secondary_xaxis(location=0)\n",
    "sec23.set_xticks([0,1,2,3,4,5,6,7,8,9,10,11,12,13,14,15,16,17,18,19,20,21,22,23,24,25,26],labels=['lo','me','hi','lo','me','hi','lo','me','hi','lo','me','hi','lo','me','hi','lo','me','hi','lo','me','hi','lo','me','hi','lo','me','hi'],fontsize='small')\n",
    "sec23.tick_params('x',length=0,width=0.75)\n",
    "sec24 = ax2.secondary_xaxis(location=0)\n",
    "sec24.set_xticks([1,4,7,10,13,16,19,22,25],labels=['low bio','medium bio','high bio','low bio','medium bio','high bio','low bio','medium bio','high bio'])\n",
    "sec24.tick_params('x',length=0,width=0.75,pad=15)\n",
    "\n",
    "\n",
    "# Change the y-axis to percentage for the second chart\n",
    "ax2.yaxis.set_major_formatter(plt.FuncFormatter(lambda y, _: '{:.0%}'.format(y)))\n",
    "\n",
    "# Add dashed lines for each 0.2 on the y-axis for the second chart\n",
    "for y in np.arange(0.5, 1.0, 0.5):\n",
    "    ax2.axhline(y=y, color='black', linestyle='-', linewidth=0.8, zorder=0)\n",
    "\n",
    "# Adjust the spacing between subplots\n",
    "plt.tight_layout()\n",
    "\n",
    "plt.subplots_adjust(hspace=0.05)\n",
    "\n",
    "# Show the combined plot\n",
    "plt.show()"
   ]
  },
  {
   "cell_type": "markdown",
   "metadata": {},
   "source": [
    "## Mini heatmap"
   ]
  },
  {
   "cell_type": "code",
   "execution_count": 3,
   "metadata": {},
   "outputs": [
    {
     "data": {
      "image/png": "[encoded data removed]",
      "text/plain": [
       "<Figure size 900x250 with 5 Axes>"
      ]
     },
     "metadata": {},
     "output_type": "display_data"
    }
   ],
   "source": [
    "# Read capacity file\n",
    "df_G = GDXs['G_CAP_YCRAF']\n",
    "df_G.rename(columns={'level_0':'Year','level_1':'Country','level_2':'Region','level_3':'Area','level_4':'Generator','level_5':'Fuel','level_6':'Commodity','level_7':'Technology','level_8':'Variable','level_9':'Unit'},inplace=True)\n",
    "# Read production file\n",
    "df_P = GDXs['PRO_YCRAGF']\n",
    "df_P.rename(columns={'level_0':'Year','level_1':'Country','level_2':'Region','level_3':'Area','level_4':'Generator','level_5':'Fuel','level_6':'Commodity','level_7':'Technology','level_8':'Unit'},inplace=True)\n",
    "# Read objective function\n",
    "df_OB = GDXs['OBJ_YCR']\n",
    "df_OB.rename(columns={'level_0':'Year','level_1':'Country','level_2':'Region','level_3':'Category','level_4':'Unit'},inplace=True)\n",
    "\n",
    "# Settings\n",
    "year = '2050'\n",
    "mainscenario = 'HHM'\n",
    "scnd = 'HLM'\n",
    "thrd = 'LHM' \n",
    "frth = 'LLM'\n",
    "allscenario = [mainscenario,scnd,thrd,frth]\n",
    "\n",
    "# mini heat\n",
    "mapbio = {'L':'Low bio','H':'High bio'}\n",
    "mapvre = {'L':'Low VRE','H':'High VRE'}\n",
    "\n",
    "obj = df_OB[(df_OB['Year'] == year) & (df_OB['Scenario'].isin(allscenario))]\n",
    "obj = obj.groupby(['Scenario'])['Value'].sum()/1e3\n",
    "obj = obj.reset_index()\n",
    "obj['Biomass'] = obj['Scenario'].str[0].map(mapbio)\n",
    "obj['VRE'] = obj['Scenario'].str[1].map(mapvre)\n",
    "obj = obj.pivot(index='Biomass',columns='VRE',values='Value')\n",
    "obj = obj[['Low VRE','High VRE']]\n",
    "\n",
    "elec = df_G[(df_G['Technology'] == 'ELECTROLYZER') & (df_G['Year'] == year) & (df_G['Scenario'].isin(allscenario))]\n",
    "elec = elec.groupby(['Scenario'])['Value'].sum()\n",
    "elec = elec.reset_index()\n",
    "elec['Biomass'] = elec['Scenario'].str[0].map(mapbio)\n",
    "elec['VRE'] = elec['Scenario'].str[1].map(mapvre)\n",
    "elec = elec.pivot(index='Biomass',columns='VRE',values='Value')\n",
    "elec = elec[['Low VRE','High VRE']]\n",
    "\n",
    "sun = df_G[(df_G['Technology'] == 'SOLAR-PV') & (df_G['Year'] == year) & (df_G['Scenario'].isin(allscenario))]\n",
    "sun = sun.groupby(['Scenario'])['Value'].sum()\n",
    "sun = sun.reset_index()\n",
    "sun['Biomass'] = sun['Scenario'].str[0].map(mapbio)\n",
    "sun['VRE'] = sun['Scenario'].str[1].map(mapvre)\n",
    "sun = sun.pivot(index='Biomass',columns='VRE',values='Value')\n",
    "sun = sun[['Low VRE','High VRE']]\n",
    "\n",
    "on = df_G[(df_G['Technology'] == 'WIND-ON') & (df_G['Year'] == year) & (df_G['Scenario'].isin(allscenario))]\n",
    "on = on.groupby(['Scenario'])['Value'].sum()\n",
    "on = on.reset_index()\n",
    "on['Biomass'] = on['Scenario'].str[0].map(mapbio)\n",
    "on['VRE'] = on['Scenario'].str[1].map(mapvre)\n",
    "on = on.pivot(index='Biomass',columns='VRE',values='Value')\n",
    "on = on[['Low VRE','High VRE']]\n",
    "\n",
    "off = df_G[(df_G['Technology'] == 'WIND-OFF') & (df_G['Year'] == year) & (df_G['Scenario'].isin(allscenario))]\n",
    "off = off.groupby(['Scenario'])['Value'].sum()\n",
    "off = off.reset_index()\n",
    "off['Biomass'] = off['Scenario'].str[0].map(mapbio)\n",
    "off['VRE'] = off['Scenario'].str[1].map(mapvre)\n",
    "off = off.pivot(index='Biomass',columns='VRE',values='Value')\n",
    "off = off[['Low VRE','High VRE']]\n",
    "\n",
    "plt.rcParams[\"font.family\"] = \"serif\"\n",
    "\n",
    "fig, axes = plt.subplots(1, 5, figsize=(9, 2.5))\n",
    "sns.heatmap(obj, annot=True, fmt=\".0f\", cmap='PuRd', cbar=False, ax=axes[0], annot_kws={\"size\": 10})\n",
    "sns.heatmap(elec, annot=True, fmt=\".0f\", cmap='YlGn', cbar=False, ax=axes[1], annot_kws={\"size\": 10})\n",
    "sns.heatmap(sun, annot=True, fmt=\".0f\", cmap='YlOrBr', cbar=False, ax=axes[2], annot_kws={\"size\": 10})\n",
    "sns.heatmap(on, annot=True, fmt=\".0f\", cmap='GnBu', cbar=False, ax=axes[3], annot_kws={\"size\": 10})\n",
    "sns.heatmap(off, annot=True, fmt=\".0f\", cmap='GnBu', cbar=False, ax=axes[4], annot_kws={\"size\": 10})\n",
    "\n",
    "axes[0].set_title('Objective cost, B€/a', fontsize=10)\n",
    "axes[1].set_title('Electrolysis, GW', fontsize=10)\n",
    "axes[2].set_title('Solar PV, GW', fontsize=10)\n",
    "axes[3].set_title('Onshore wind, GW', fontsize=10)\n",
    "axes[4].set_title('Offshore wind, GW', fontsize=10)\n",
    "axes[0].set_ylabel('')\n",
    "axes[1].set_ylabel('')\n",
    "axes[2].set_ylabel('')\n",
    "axes[3].set_ylabel('')\n",
    "axes[4].set_ylabel('')\n",
    "axes[0].set_xlabel('')\n",
    "axes[1].set_xlabel('')\n",
    "axes[2].set_xlabel('')\n",
    "axes[3].set_xlabel('')\n",
    "axes[4].set_xlabel('')\n",
    "axes[1].tick_params(axis='y', left=False, labelleft=False)\n",
    "axes[2].tick_params(axis='y', left=False, labelleft=False)\n",
    "axes[3].tick_params(axis='y', left=False, labelleft=False)\n",
    "axes[4].tick_params(axis='y', left=False, labelleft=False)\n",
    "axes[0].tick_params(axis='x', labelrotation=0)\n",
    "axes[1].tick_params(axis='x', labelrotation=0)\n",
    "axes[2].tick_params(axis='x', labelrotation=0)\n",
    "axes[3].tick_params(axis='x', labelrotation=0)\n",
    "axes[4].tick_params(axis='x', labelrotation=0)\n",
    "\n",
    "plt.tight_layout()\n",
    "plt.show()\n"
   ]
  },
  {
   "cell_type": "code",
   "execution_count": null,
   "metadata": {},
   "outputs": [],
   "source": [
    "# Capacity factors and more\n"
   ]
  },
  {
   "cell_type": "markdown",
   "metadata": {},
   "source": [
    "## Sankey"
   ]
  },
  {
   "cell_type": "code",
   "execution_count": 9,
   "metadata": {},
   "outputs": [],
   "source": [
    "## Make sankey\n",
    "\n",
    "# Sankey\n",
    "#nodes = ['Biogas','Woody biomass','Agricultural biomass','Industry','Other','Transport','Combustion CC','Combustion','Fuels', 'DAC','CO2','Fossil CC','Sequestration','Use'] \n",
    "nodes = ['Biomass','Industry','Other','Transport','Combustion CC','Combustion','Fuels', 'Biogas','DAC','CO2','Fossil CC','Sequestration','Use']\n",
    "agriculture = ['STRAW']\n",
    "biogas = ['BIOGAS']\n",
    "woody = ['WOODCHIPS','WOODPELLETS']\n",
    "biomass = agriculture + biogas + woody\n",
    "biomass2 = ['Agricultural biomass','Biogas','Woody biomass']\n",
    "year = '2050'\n",
    "scenario = 'MMM'\n",
    "\n",
    "# Get OptiFlow and Balmorel data\n",
    "df_opt = GDXs['VFLOWCCU_C']\n",
    "df_opt.rename(columns={'level_0':'Year','level_1':'Country','level_2':'Source','level_3':'Flow'},inplace=True)\n",
    "opti = df_opt.copy()\n",
    "df_opt2 = GDXs['VFLOW_Opti_C']\n",
    "df_opt2.rename(columns={'level_0':'Year','level_1':'Country','level_2':'Source','level_3':'Destination','level_4':'Flow'},inplace=True)\n",
    "opti2 = df_opt2.copy()\n",
    "df_cc = GDXs['CC_YCRAG']\n",
    "df_cc.rename(columns={'level_0':'Year','level_1':'Country','level_2':'Region','level_3':'Area','level_4':'Generator','level_5':'Fuel','level_6':'Technology','level_7':'Unit'},inplace=True)\n",
    "carbcap = df_cc.copy()\n",
    "df_g = GDXs['F_CONS_YCRA']\n",
    "df_g.rename(columns={'level_0':'Year','level_1':'Country','level_2':'Region','level_3':'Area','level_4':'Generator','level_5':'Fuel','level_6':'Technology','level_7':'Unit'},inplace=True)\n",
    "bal = df_g.copy()\n",
    "bal['Fuel'] = bal['Fuel'].apply(lambda x: 'Biomass' if x in biomass else x)\n",
    "#bal['Fuel'] = bal['Fuel'].apply(lambda x: 'Agricultural biomass' if x in agriculture else x)\n",
    "#bal['Fuel'] = bal['Fuel'].apply(lambda x: 'Biogas' if x in biogas else x)\n",
    "#bal['Fuel'] = bal['Fuel'].apply(lambda x: 'Woody biomass' if x in woody else x)\n",
    "bal['Area'] = bal['Area'].apply(lambda x: 'Industry' if '_IND' in x else 'Conventional')\n",
    "\n",
    "# Biomass use\n",
    "bio_fuel = bal[(bal['Technology'] == 'OPTIFLOW') & (bal['Fuel'] == 'Biomass')].groupby(['Scenario','Year'])['Value'].sum().unstack()\n",
    "bio_fuel = bio_fuel.loc[scenario][year]\n",
    "#agri_fuel = bal[(bal['Technology'] == 'OPTIFLOW') & (bal['Fuel'] == 'Agricultural biomass')].groupby(['Scenario','Year'])['Value'].sum().unstack()\n",
    "#agri_fuel = agri_fuel.loc[scenario][year]\n",
    "#wood_fuel = bal[(bal['Technology'] == 'OPTIFLOW') & (bal['Fuel'] == 'Woody biomass')].groupby(['Scenario','Year'])['Value'].sum().unstack()\n",
    "#wood_fuel = wood_fuel.loc[scenario][year]\n",
    "bio_ind = bal[(bal['Fuel'] == 'Biomass') & (bal['Area'] == 'Industry')].groupby(['Scenario','Year'])['Value'].sum().unstack()\n",
    "bio_ind = bio_ind.loc[scenario][year]\n",
    "#agri_ind = bal[(bal['Fuel'] == 'Agricultural biomass') & (bal['Area'] == 'Industry')].groupby(['Scenario','Year'])['Value'].sum().unstack()\n",
    "#try:\n",
    "    #agri_ind = agri_ind.loc[scenario][year]\n",
    "#except:\n",
    "#    agri_ind = 0\n",
    "bio_other = bal[(bal['Fuel'] == 'Biomass') & (bal['Area'] == 'Conventional') & (bal['Technology'] != 'OPTIFLOW')].groupby(['Scenario','Year'])['Value'].sum().unstack()\n",
    "bio_other = bio_other.loc[scenario][year]\n",
    "#agri_other = bal[(bal['Fuel'] == 'Agricultural biomass') & (bal['Area'] == 'Conventional') & (bal['Technology'] != 'OPTIFLOW')].groupby(['Scenario','Year'])['Value'].sum().unstack()\n",
    "#try:\n",
    "#    agri_other = agri_other.loc[scenario][year]\n",
    "#except:\n",
    "#    agri_other = 0\n",
    "#wood_ind = bal[(bal['Fuel'] == 'Woody biomass') & (bal['Area'] == 'Industry')].groupby(['Scenario','Year'])['Value'].sum().unstack()\n",
    "#wood_ind = wood_ind.loc[scenario][year]\n",
    "#wood_other = bal[(bal['Fuel'] == 'Woody biomass') & (bal['Area'] == 'Conventional') & (bal['Technology'] != 'OPTIFLOW')].groupby(['Scenario','Year'])['Value'].sum().unstack()\n",
    "#wood_other = wood_other.loc[scenario][year]\n",
    "#biogas_ind = bal[(bal['Fuel'] == 'Biogas') & (bal['Area'] == 'Industry')].groupby(['Scenario','Year'])['Value'].sum().unstack()\n",
    "#biogas_ind = biogas_ind.loc[scenario][year]\n",
    "#biogas_other = bal[(bal['Fuel'] == 'Biogas') & (bal['Area'] == 'Conventional') & (bal['Technology'] != 'OPTIFLOW')].groupby(['Scenario','Year'])['Value'].sum().unstack()\n",
    "#biogas_other = biogas_other.loc[scenario][year]\n",
    "\n",
    "# Biomass combustion\n",
    "ind_CC = bal[(bal['Generator'].str.contains('CCS')) & (bal['Area'] == 'Industry') & (bal['Fuel'] == 'Biomass') & (bal['Technology'] != 'OPTIFLOW')].groupby(['Scenario','Year'])['Value'].sum().unstack()\n",
    "ind_CC = ind_CC.loc[scenario][year]\n",
    "other_CC = bal[(bal['Generator'].str.contains('CCS')) & (bal['Area'] == 'Conventional') & (bal['Fuel'] == 'Biomass') & (bal['Technology'] != 'OPTIFLOW')].groupby(['Scenario','Year'])['Value'].sum().unstack()\n",
    "try:\n",
    "    other_CC = other_CC.loc[scenario][year]\n",
    "except:\n",
    "    other_CC = 0\n",
    "ind_noCC = bal[(~bal['Generator'].str.contains('CCS')) & (bal['Area'] == 'Industry') & (bal['Fuel'] == 'Biomass') & (bal['Technology'] != 'OPTIFLOW')].groupby(['Scenario','Year'])['Value'].sum().unstack()\n",
    "ind_noCC = ind_noCC.loc[scenario][year]\n",
    "other_noCC = bal[(~bal['Generator'].str.contains('CCS')) & (bal['Area'] == 'Conventional') & (bal['Fuel'] == 'Biomass') & (bal['Technology'] != 'OPTIFLOW')].groupby(['Scenario','Year'])['Value'].sum().unstack()\n",
    "other_noCC = other_noCC.loc[scenario][year]\n",
    "\n",
    "# transport\n",
    "#fuel_transp = agri_fuel + wood_fuel\n",
    "fuel_transp = bio_fuel\n",
    "\n",
    "# Carbon capture\n",
    "carbcap_bio = carbcap[(carbcap['Fuel'].isin(biomass))] # kton\n",
    "carbcap_bio = carbcap_bio.groupby(['Scenario','Year'])['Value'].sum().unstack()\n",
    "try:\n",
    "    carbcap_bio = carbcap_bio.loc[scenario][year]\n",
    "except:\n",
    "    carbcap_bio = 0\n",
    "carbcap_fossil = carbcap[(~carbcap['Fuel'].isin(biomass))] # kton\n",
    "carbcap_fossil = carbcap_fossil.groupby(['Scenario','Year'])['Value'].sum().unstack()\n",
    "carbcap_fossil = carbcap_fossil.loc[scenario][year] / 1e3 # Mton\n",
    "\n",
    "# Carbon use\n",
    "opti_biogen = opti[(opti['Source'] == 'CO2_Source_Biogen')] # ton\n",
    "CCU_biogen = opti_biogen.groupby(['Scenario','Year'])['Value'].sum().unstack()\n",
    "CCU_biogen.fillna(0, inplace=True)\n",
    "CCU_biogen = CCU_biogen.loc[scenario][year] / 1e3 # kton\n",
    "CCU_biogas = opti2[(opti2['Source'] == 'CO2_Bio_Pot') & (opti2['Destination'] == 'CO2')] # ton\n",
    "CCU_biogas = CCU_biogas.groupby(['Scenario','Year'])['Value'].sum().unstack()\n",
    "CCU_biogas = CCU_biogas.loc[scenario][year] *1e3 # kton\n",
    "try:\n",
    "    opti_DAC = opti2[(opti2['Source'] == 'CO2_Source_DAC')] # ton\n",
    "    opti_DAC_grouped = opti_DAC.groupby(['Scenario','Year'])['Value'].sum().unstack()\n",
    "    opti_DAC_grouped.fillna(0, inplace=True)\n",
    "    opti_DAC_grouped = opti_DAC_grouped.loc[scenario][year] * 1e3 # kton\n",
    "except:\n",
    "    opti_DAC_grouped = 0\n",
    "    \n",
    "# Share carbon use\n",
    "share = CCU_biogen / carbcap_bio\n",
    "industryCCU = share * ind_CC\n",
    "otherCCU = share * other_CC\n",
    "industryCCS = (1-share) * ind_CC\n",
    "otherCCS = (1-share) * other_CC\n",
    "CCU = (CCU_biogen + CCU_biogas + opti_DAC_grouped) / 1e3 # Mton\n",
    "CCS = (carbcap_bio - CCU_biogen)/1e3 # Mton\n",
    "\n",
    "biomass_sum = bio_fuel + bio_ind + bio_other\n",
    "#agriculture = agri_fuel + agri_ind + agri_other\n",
    "#woody = np.nansum([wood_fuel, wood_ind, wood_other])\n",
    "#biogas = np.nansum([biogas_ind, biogas_other])\n",
    "#biomass = np.nansum([agriculture,woody,biogas])\n",
    "co2_scale = 2\n",
    "co2_bg = CCU_biogas/1e3 * co2_scale\n",
    "co2_biogen = CCU_biogen/1e3 * co2_scale\n",
    "co2_DAC = opti_DAC_grouped/1e3 * co2_scale\n",
    "CCS = CCS * co2_scale\n",
    "CCU = CCU * co2_scale\n",
    "carbcap_fossil = carbcap_fossil * co2_scale\n",
    "co2 = np.nansum([co2_bg, co2_biogen, co2_DAC, CCS])\n",
    "\n",
    "#fossil = foss_CC\n",
    "fuels = fuel_transp\n",
    "combustionCC = np.nansum([ind_CC, other_CC])\n",
    "combustion = np.nansum([ind_noCC, other_noCC])\n",
    "transport = fuel_transp\n",
    "industry = np.nansum([ind_CC, ind_noCC])\n",
    "other = np.nansum([other_CC, other_noCC])\n"
   ]
  },
  {
   "cell_type": "code",
   "execution_count": 11,
   "metadata": {},
   "outputs": [
    {
     "data": {
      "application/vnd.plotly.v1+json": {
       "config": {
        "plotlyServerURL": "https://plot.ly"
       },
       "data": [
        {
         "link": {
          "color": [
           "forestgreen",
           "forestgreen",
           "forestgreen",
           "bisque",
           "orange",
           "bisque",
           "orange",
           "lightgray",
           "darkslategray",
           "darkslategray",
           "darkslategray",
           "darkslategray",
           "lightslategray",
           "gray"
          ],
          "source": [
           0,
           0,
           0,
           1,
           1,
           2,
           2,
           3,
           4,
           7,
           8,
           9,
           9,
           10
          ],
          "target": [
           1,
           2,
           3,
           4,
           5,
           4,
           5,
           6,
           9,
           9,
           9,
           11,
           12,
           11
          ],
          "value": [
           435.50816870044656,
           2.8616617193379317,
           543.8669439966518,
           89.6380824524506,
           345.87008624799597,
           0,
           2.8616617193379317,
           543.8669439966518,
           38.00958961990203,
           105.98935791453489,
           13.34639061415825,
           2.5954532183191477,
           157.34533814859515,
           23.15400288024127
          ]
         },
         "node": {
          "color": "lightgrey",
          "label": [
           "Biomass, 982",
           "Industry, 436",
           "Other, 3",
           "Transport, 544",
           "Combustion CC, 90",
           "Combustion, 349",
           "Fuels, 544",
           "Biogas, 53",
           "DAC, 7",
           "CO2, 80",
           "Fossil CCS, 12",
           "Sequestration, 13",
           "Use, 79"
          ],
          "line": {
           "color": "black",
           "width": 0.5
          },
          "pad": 15,
          "thickness": 10,
          "x": [
           0.01,
           0.27,
           0.27,
           0.27,
           0.5,
           0.5,
           0.5,
           0.55,
           0.55,
           0.75,
           0.75,
           0.99,
           0.99
          ],
          "y": [
           0.5,
           0.2,
           0.4,
           0.7,
           0.05,
           0.25,
           0.7,
           0.4,
           0.6,
           0.25,
           0.8,
           0.6,
           0.15
          ]
         },
         "type": "sankey"
        }
       ],
       "layout": {
        "annotations": [
         {
          "font": {
           "size": 24
          },
          "showarrow": false,
          "text": "test)",
          "x": 0,
          "y": 1.08
         }
        ],
        "font": {
         "color": "black",
         "family": "Calibri",
         "size": 26
        },
        "height": 350,
        "margin": {
         "b": 40,
         "l": 5,
         "r": 5,
         "t": 40
        },
        "plot_bgcolor": "black",
        "template": {
         "data": {
          "bar": [
           {
            "error_x": {
             "color": "#2a3f5f"
            },
            "error_y": {
             "color": "#2a3f5f"
            },
            "marker": {
             "line": {
              "color": "#E5ECF6",
              "width": 0.5
             },
             "pattern": {
              "fillmode": "overlay",
              "size": 10,
              "solidity": 0.2
             }
            },
            "type": "bar"
           }
          ],
          "barpolar": [
           {
            "marker": {
             "line": {
              "color": "#E5ECF6",
              "width": 0.5
             },
             "pattern": {
              "fillmode": "overlay",
              "size": 10,
              "solidity": 0.2
             }
            },
            "type": "barpolar"
           }
          ],
          "carpet": [
           {
            "aaxis": {
             "endlinecolor": "#2a3f5f",
             "gridcolor": "white",
             "linecolor": "white",
             "minorgridcolor": "white",
             "startlinecolor": "#2a3f5f"
            },
            "baxis": {
             "endlinecolor": "#2a3f5f",
             "gridcolor": "white",
             "linecolor": "white",
             "minorgridcolor": "white",
             "startlinecolor": "#2a3f5f"
            },
            "type": "carpet"
           }
          ],
          "choropleth": [
           {
            "colorbar": {
             "outlinewidth": 0,
             "ticks": ""
            },
            "type": "choropleth"
           }
          ],
          "contour": [
           {
            "colorbar": {
             "outlinewidth": 0,
             "ticks": ""
            },
            "colorscale": [
             [
              0,
              "#0d0887"
             ],
             [
              0.1111111111111111,
              "#46039f"
             ],
             [
              0.2222222222222222,
              "#7201a8"
             ],
             [
              0.3333333333333333,
              "#9c179e"
             ],
             [
              0.4444444444444444,
              "#bd3786"
             ],
             [
              0.5555555555555556,
              "#d8576b"
             ],
             [
              0.6666666666666666,
              "#ed7953"
             ],
             [
              0.7777777777777778,
              "#fb9f3a"
             ],
             [
              0.8888888888888888,
              "#fdca26"
             ],
             [
              1,
              "#f0f921"
             ]
            ],
            "type": "contour"
           }
          ],
          "contourcarpet": [
           {
            "colorbar": {
             "outlinewidth": 0,
             "ticks": ""
            },
            "type": "contourcarpet"
           }
          ],
          "heatmap": [
           {
            "colorbar": {
             "outlinewidth": 0,
             "ticks": ""
            },
            "colorscale": [
             [
              0,
              "#0d0887"
             ],
             [
              0.1111111111111111,
              "#46039f"
             ],
             [
              0.2222222222222222,
              "#7201a8"
             ],
             [
              0.3333333333333333,
              "#9c179e"
             ],
             [
              0.4444444444444444,
              "#bd3786"
             ],
             [
              0.5555555555555556,
              "#d8576b"
             ],
             [
              0.6666666666666666,
              "#ed7953"
             ],
             [
              0.7777777777777778,
              "#fb9f3a"
             ],
             [
              0.8888888888888888,
              "#fdca26"
             ],
             [
              1,
              "#f0f921"
             ]
            ],
            "type": "heatmap"
           }
          ],
          "heatmapgl": [
           {
            "colorbar": {
             "outlinewidth": 0,
             "ticks": ""
            },
            "colorscale": [
             [
              0,
              "#0d0887"
             ],
             [
              0.1111111111111111,
              "#46039f"
             ],
             [
              0.2222222222222222,
              "#7201a8"
             ],
             [
              0.3333333333333333,
              "#9c179e"
             ],
             [
              0.4444444444444444,
              "#bd3786"
             ],
             [
              0.5555555555555556,
              "#d8576b"
             ],
             [
              0.6666666666666666,
              "#ed7953"
             ],
             [
              0.7777777777777778,
              "#fb9f3a"
             ],
             [
              0.8888888888888888,
              "#fdca26"
             ],
             [
              1,
              "#f0f921"
             ]
            ],
            "type": "heatmapgl"
           }
          ],
          "histogram": [
           {
            "marker": {
             "pattern": {
              "fillmode": "overlay",
              "size": 10,
              "solidity": 0.2
             }
            },
            "type": "histogram"
           }
          ],
          "histogram2d": [
           {
            "colorbar": {
             "outlinewidth": 0,
             "ticks": ""
            },
            "colorscale": [
             [
              0,
              "#0d0887"
             ],
             [
              0.1111111111111111,
              "#46039f"
             ],
             [
              0.2222222222222222,
              "#7201a8"
             ],
             [
              0.3333333333333333,
              "#9c179e"
             ],
             [
              0.4444444444444444,
              "#bd3786"
             ],
             [
              0.5555555555555556,
              "#d8576b"
             ],
             [
              0.6666666666666666,
              "#ed7953"
             ],
             [
              0.7777777777777778,
              "#fb9f3a"
             ],
             [
              0.8888888888888888,
              "#fdca26"
             ],
             [
              1,
              "#f0f921"
             ]
            ],
            "type": "histogram2d"
           }
          ],
          "histogram2dcontour": [
           {
            "colorbar": {
             "outlinewidth": 0,
             "ticks": ""
            },
            "colorscale": [
             [
              0,
              "#0d0887"
             ],
             [
              0.1111111111111111,
              "#46039f"
             ],
             [
              0.2222222222222222,
              "#7201a8"
             ],
             [
              0.3333333333333333,
              "#9c179e"
             ],
             [
              0.4444444444444444,
              "#bd3786"
             ],
             [
              0.5555555555555556,
              "#d8576b"
             ],
             [
              0.6666666666666666,
              "#ed7953"
             ],
             [
              0.7777777777777778,
              "#fb9f3a"
             ],
             [
              0.8888888888888888,
              "#fdca26"
             ],
             [
              1,
              "#f0f921"
             ]
            ],
            "type": "histogram2dcontour"
           }
          ],
          "mesh3d": [
           {
            "colorbar": {
             "outlinewidth": 0,
             "ticks": ""
            },
            "type": "mesh3d"
           }
          ],
          "parcoords": [
           {
            "line": {
             "colorbar": {
              "outlinewidth": 0,
              "ticks": ""
             }
            },
            "type": "parcoords"
           }
          ],
          "pie": [
           {
            "automargin": true,
            "type": "pie"
           }
          ],
          "scatter": [
           {
            "fillpattern": {
             "fillmode": "overlay",
             "size": 10,
             "solidity": 0.2
            },
            "type": "scatter"
           }
          ],
          "scatter3d": [
           {
            "line": {
             "colorbar": {
              "outlinewidth": 0,
              "ticks": ""
             }
            },
            "marker": {
             "colorbar": {
              "outlinewidth": 0,
              "ticks": ""
             }
            },
            "type": "scatter3d"
           }
          ],
          "scattercarpet": [
           {
            "marker": {
             "colorbar": {
              "outlinewidth": 0,
              "ticks": ""
             }
            },
            "type": "scattercarpet"
           }
          ],
          "scattergeo": [
           {
            "marker": {
             "colorbar": {
              "outlinewidth": 0,
              "ticks": ""
             }
            },
            "type": "scattergeo"
           }
          ],
          "scattergl": [
           {
            "marker": {
             "colorbar": {
              "outlinewidth": 0,
              "ticks": ""
             }
            },
            "type": "scattergl"
           }
          ],
          "scattermapbox": [
           {
            "marker": {
             "colorbar": {
              "outlinewidth": 0,
              "ticks": ""
             }
            },
            "type": "scattermapbox"
           }
          ],
          "scatterpolar": [
           {
            "marker": {
             "colorbar": {
              "outlinewidth": 0,
              "ticks": ""
             }
            },
            "type": "scatterpolar"
           }
          ],
          "scatterpolargl": [
           {
            "marker": {
             "colorbar": {
              "outlinewidth": 0,
              "ticks": ""
             }
            },
            "type": "scatterpolargl"
           }
          ],
          "scatterternary": [
           {
            "marker": {
             "colorbar": {
              "outlinewidth": 0,
              "ticks": ""
             }
            },
            "type": "scatterternary"
           }
          ],
          "surface": [
           {
            "colorbar": {
             "outlinewidth": 0,
             "ticks": ""
            },
            "colorscale": [
             [
              0,
              "#0d0887"
             ],
             [
              0.1111111111111111,
              "#46039f"
             ],
             [
              0.2222222222222222,
              "#7201a8"
             ],
             [
              0.3333333333333333,
              "#9c179e"
             ],
             [
              0.4444444444444444,
              "#bd3786"
             ],
             [
              0.5555555555555556,
              "#d8576b"
             ],
             [
              0.6666666666666666,
              "#ed7953"
             ],
             [
              0.7777777777777778,
              "#fb9f3a"
             ],
             [
              0.8888888888888888,
              "#fdca26"
             ],
             [
              1,
              "#f0f921"
             ]
            ],
            "type": "surface"
           }
          ],
          "table": [
           {
            "cells": {
             "fill": {
              "color": "#EBF0F8"
             },
             "line": {
              "color": "white"
             }
            },
            "header": {
             "fill": {
              "color": "#C8D4E3"
             },
             "line": {
              "color": "white"
             }
            },
            "type": "table"
           }
          ]
         },
         "layout": {
          "annotationdefaults": {
           "arrowcolor": "#2a3f5f",
           "arrowhead": 0,
           "arrowwidth": 1
          },
          "autotypenumbers": "strict",
          "coloraxis": {
           "colorbar": {
            "outlinewidth": 0,
            "ticks": ""
           }
          },
          "colorscale": {
           "diverging": [
            [
             0,
             "#8e0152"
            ],
            [
             0.1,
             "#c51b7d"
            ],
            [
             0.2,
             "#de77ae"
            ],
            [
             0.3,
             "#f1b6da"
            ],
            [
             0.4,
             "#fde0ef"
            ],
            [
             0.5,
             "#f7f7f7"
            ],
            [
             0.6,
             "#e6f5d0"
            ],
            [
             0.7,
             "#b8e186"
            ],
            [
             0.8,
             "#7fbc41"
            ],
            [
             0.9,
             "#4d9221"
            ],
            [
             1,
             "#276419"
            ]
           ],
           "sequential": [
            [
             0,
             "#0d0887"
            ],
            [
             0.1111111111111111,
             "#46039f"
            ],
            [
             0.2222222222222222,
             "#7201a8"
            ],
            [
             0.3333333333333333,
             "#9c179e"
            ],
            [
             0.4444444444444444,
             "#bd3786"
            ],
            [
             0.5555555555555556,
             "#d8576b"
            ],
            [
             0.6666666666666666,
             "#ed7953"
            ],
            [
             0.7777777777777778,
             "#fb9f3a"
            ],
            [
             0.8888888888888888,
             "#fdca26"
            ],
            [
             1,
             "#f0f921"
            ]
           ],
           "sequentialminus": [
            [
             0,
             "#0d0887"
            ],
            [
             0.1111111111111111,
             "#46039f"
            ],
            [
             0.2222222222222222,
             "#7201a8"
            ],
            [
             0.3333333333333333,
             "#9c179e"
            ],
            [
             0.4444444444444444,
             "#bd3786"
            ],
            [
             0.5555555555555556,
             "#d8576b"
            ],
            [
             0.6666666666666666,
             "#ed7953"
            ],
            [
             0.7777777777777778,
             "#fb9f3a"
            ],
            [
             0.8888888888888888,
             "#fdca26"
            ],
            [
             1,
             "#f0f921"
            ]
           ]
          },
          "colorway": [
           "#636efa",
           "#EF553B",
           "#00cc96",
           "#ab63fa",
           "#FFA15A",
           "#19d3f3",
           "#FF6692",
           "#B6E880",
           "#FF97FF",
           "#FECB52"
          ],
          "font": {
           "color": "#2a3f5f"
          },
          "geo": {
           "bgcolor": "white",
           "lakecolor": "white",
           "landcolor": "#E5ECF6",
           "showlakes": true,
           "showland": true,
           "subunitcolor": "white"
          },
          "hoverlabel": {
           "align": "left"
          },
          "hovermode": "closest",
          "mapbox": {
           "style": "light"
          },
          "paper_bgcolor": "white",
          "plot_bgcolor": "#E5ECF6",
          "polar": {
           "angularaxis": {
            "gridcolor": "white",
            "linecolor": "white",
            "ticks": ""
           },
           "bgcolor": "#E5ECF6",
           "radialaxis": {
            "gridcolor": "white",
            "linecolor": "white",
            "ticks": ""
           }
          },
          "scene": {
           "xaxis": {
            "backgroundcolor": "#E5ECF6",
            "gridcolor": "white",
            "gridwidth": 2,
            "linecolor": "white",
            "showbackground": true,
            "ticks": "",
            "zerolinecolor": "white"
           },
           "yaxis": {
            "backgroundcolor": "#E5ECF6",
            "gridcolor": "white",
            "gridwidth": 2,
            "linecolor": "white",
            "showbackground": true,
            "ticks": "",
            "zerolinecolor": "white"
           },
           "zaxis": {
            "backgroundcolor": "#E5ECF6",
            "gridcolor": "white",
            "gridwidth": 2,
            "linecolor": "white",
            "showbackground": true,
            "ticks": "",
            "zerolinecolor": "white"
           }
          },
          "shapedefaults": {
           "line": {
            "color": "#2a3f5f"
           }
          },
          "ternary": {
           "aaxis": {
            "gridcolor": "white",
            "linecolor": "white",
            "ticks": ""
           },
           "baxis": {
            "gridcolor": "white",
            "linecolor": "white",
            "ticks": ""
           },
           "bgcolor": "#E5ECF6",
           "caxis": {
            "gridcolor": "white",
            "linecolor": "white",
            "ticks": ""
           }
          },
          "title": {
           "x": 0.05
          },
          "xaxis": {
           "automargin": true,
           "gridcolor": "white",
           "linecolor": "white",
           "ticks": "",
           "title": {
            "standoff": 15
           },
           "zerolinecolor": "white",
           "zerolinewidth": 2
          },
          "yaxis": {
           "automargin": true,
           "gridcolor": "white",
           "linecolor": "white",
           "ticks": "",
           "title": {
            "standoff": 15
           },
           "zerolinecolor": "white",
           "zerolinewidth": 2
          }
         }
        },
        "width": 900
       }
      }
     },
     "metadata": {},
     "output_type": "display_data"
    }
   ],
   "source": [
    "#nodes = ['Biogas','Woody biomass','Agricultural biomass','Industry','Other','Transport','Combustion CC','Combustion','Fuels', 'DAC','CO2','Fossil CC','Sequestration','Use'] \n",
    "# level 1 = [Biogas, Woody biomass, Agricultural biomass] 0,1,2\n",
    "# level 2 = [Industry, Other, Transport]                  3,4,5\n",
    "# level 3 = [Combustion CC, Combustion, Fuels, DAC]       6,7,8,9\n",
    "# level 4 = [CO2, Fossil CC]                              10,11\n",
    "# level 5 = [Sequestration, Use]                          12,13\n",
    "\n",
    "#nodes = ['Biomass','Industry','Other','Transport','Combustion CC','Combustion','Fuels', 'Biogas','DAC','CO2','Fossil CC','Sequestration','Use']\n",
    "# level 1 = [Biomass]                                       0\n",
    "# level 2 = [Industry, Other, Transport]                    1,2,3\n",
    "# level 3 = [Combustion CC, Combustion, Fuels, Biogas, DAC] 4,5,6,7\n",
    "# level 4 = [CO2, Fossil CC]                                8,9\n",
    "# level 5 = [Sequestration, Use]                            10,11\n",
    "\n",
    "source = 0.01\n",
    "sector = 0.27\n",
    "use = 0.5\n",
    "carb = 0.75\n",
    "sink = 0.99\n",
    "\n",
    "# Plot sankey\n",
    "fig = go.Figure(data=[go.Sankey(\n",
    "    node = dict(\n",
    "      pad = 15,\n",
    "      thickness = 10,\n",
    "      line = dict(color = \"black\", width = 0.5),\n",
    "      label = nodes,\n",
    "      #x = [source, source, source,\n",
    "      #     sector, sector, sector,\n",
    "      #     use, use, use, use*1.1,\n",
    "      #     carb, carb*1,\n",
    "      #     sink, sink],\n",
    "      x = [source,\n",
    "           sector, sector, sector,\n",
    "           use, use, use, use*1.1, use*1.1,\n",
    "           carb, carb*1,\n",
    "           sink, sink],\n",
    "      y = [0.5,\n",
    "           0.2, 0.4, 0.7,\n",
    "           0.05, 0.25, 0.7, 0.4, 0.6,\n",
    "           0.25, 0.80,\n",
    "           0.6, 0.15],\n",
    "      color = \"lightgrey\"\n",
    "    ),\n",
    "    link = dict(\n",
    "      #source = [0, 0, 1, 1, 1, 2, 2, 2, 3, 3, 4, 4, 5, 0,  6,  9,  10, 10, 11],\n",
    "      source = [0, 0, 0, 1, 1, 2, 2, 3, 4, 7, 8, 9, 9, 10],\n",
    "      target = [1, 2, 3, 4, 5, 4, 5, 6, 9, 9, 9, 11, 12, 11],\n",
    "      #target = [3, 4, 3, 4, 5, 3, 4, 5, 6, 7, 6, 7, 8, 10, 10, 10, 12, 13, 12],\n",
    "      #value =  [biogas_ind, biogas_other, wood_ind, wood_other, wood_fuel, agri_ind, agri_other, agri_fuel,\n",
    "      #          ind_CC, ind_noCC, other_CC, other_noCC, fuel_transp,\n",
    "      #          co2_bg, co2_biogen, co2_DAC,\n",
    "      #          CCS, CCU, carbcap_fossil],\n",
    "      value =  [bio_ind, bio_other, bio_fuel,\n",
    "                ind_CC, ind_noCC, other_CC, other_noCC, fuel_transp,\n",
    "                co2_biogen, co2_bg, co2_DAC,\n",
    "                CCS, CCU, carbcap_fossil],                \n",
    "      color =  ['forestgreen','forestgreen','forestgreen',\n",
    "                'bisque','orange','bisque','orange','lightgray',\n",
    "                'darkslategray','darkslategray','darkslategray',\n",
    "                'darkslategray','lightslategray','gray']\n",
    "  ))])\n",
    "\n",
    "#fig.update_layout(font_size=16,width=700,font_family=\"serif\",font_color=\"black\")\n",
    "# Update the labels to include the values\n",
    "fig.update_traces(node=dict(label=[\n",
    "#  f'Biogas, {biogas:.0f}', \n",
    "#  f'Woody, {woody:.0f}',\n",
    "#  f'Agricultural, {agriculture:.0f}',\n",
    "  f'Biomass, {biomass_sum:.0f}',\n",
    "  f'Industry, {industry:.0f}',\n",
    "  f'Other, {other:.0f}',\n",
    "  f'Transport, {fuel_transp:.0f}',  \n",
    "  f'Combustion CC, {combustionCC:.0f}', \n",
    "  f'Combustion, {combustion:.0f}',\n",
    "  f'Fuels, {fuels:.0f}',\n",
    "  f'Biogas, {co2_bg/co2_scale:.0f}',\n",
    "  f'DAC, {co2_DAC/co2_scale:.0f}',\n",
    "  f'CO2, {co2/co2_scale:.0f}',\n",
    "  f'Fossil CCS, {carbcap_fossil/co2_scale:.0f}',\n",
    "  f'Sequestration, {(CCS+carbcap_fossil)/co2_scale:.0f}',\n",
    "  f'Use, {CCU/co2_scale:.0f}'\n",
    "]))\n",
    "\n",
    "heights = {\"H\":450,\"M\":350,\"L\":250}\n",
    "labels = {\"HH\":\"i)\",\"HL\":\"ii)\",\"MH\":\"iii)\",\"ML\":\"iv)\",\"LH\":\"v)\",\"LL\":\"vi)\",\"MM\":\"test)\"}\n",
    "height = heights[scenario[0]]\n",
    "label = labels[scenario[:2]]\n",
    "#scaled_height_HHM = 484\n",
    "#scaled_height_HLM = 599\n",
    "fig.update_layout(height=height,margin=dict(l=5, r=5, t=40, b=40),font_size=26,width=900,font_family=\"Calibri\",font_color=\"black\",plot_bgcolor=\"black\")\n",
    "\n",
    "if scenario[0]==\"L\":\n",
    "    \n",
    "  fig.add_shape(type=\"line\",\n",
    "        x0=0, y0=0.02, x1=0.52, y1=0.02,\n",
    "        line=dict(color=\"black\", width=2))\n",
    "  fig.add_shape(type=\"line\",\n",
    "        x0=0.53, y0=0.02, x1=1, y1=0.02,\n",
    "        line=dict(color=\"black\", width=2))\n",
    "\n",
    "  fig.add_annotation(x=0.275, y=-0.2, text=\"TWh\", showarrow=False, font=dict(size=24))\n",
    "  fig.add_annotation(x=0.775, y=-0.2, text=\"Mt\", showarrow=False, font=dict(size=24))\n",
    "\n",
    "fig.add_annotation(x=0, y=1.08, text=label, showarrow=False, font=dict(size=24))\n",
    "\n",
    "# Save the figure as a high resolution image\n",
    "#fig.write_image(\"C:\\\\Users\\\\tmad\\\\OneDrive - Danmarks Tekniske Universitet\\\\11 BioLim PtX\\\\Figures\\\\Sank_\"+scenario+\".png\")\n",
    "fig.show()\n"
   ]
  },
  {
   "cell_type": "markdown",
   "metadata": {},
   "source": [
    "## Initialize full"
   ]
  },
  {
   "cell_type": "code",
   "execution_count": 1,
   "metadata": {},
   "outputs": [
    {
     "name": "stderr",
     "output_type": "stream",
     "text": [
      "c:\\Users\\tmad\\GitHub\\pap1-code\\Functions.py:45: UserWarning: The GAMS version (46.2.0) differs from the API version (48.1.0).\n",
      "  ws = gams.GamsWorkspace(system_directory=gams_sys_dir)\n"
     ]
    },
    {
     "name": "stdout",
     "output_type": "stream",
     "text": [
      "Finished, making dictionary of dataframes.\n",
      "\n"
     ]
    }
   ],
   "source": [
    "# Used packages\n",
    "import pandas as pd\n",
    "import numpy as np\n",
    "from Functions import gdx_to_dict\n",
    "from Functions import distance\n",
    "import matplotlib.pyplot as plt\n",
    "import matplotlib.patches as mpatches\n",
    "import plotly.graph_objects as go\n",
    "from Dictionaries import fuel_colors\n",
    "from Dictionaries import fuel_labels\n",
    "from Dictionaries import change_country_label\n",
    "import geopandas as gpd\n",
    "import cartopy.crs as ccrs\n",
    "from pybalmorel import MainResults\n",
    "import seaborn as sns\n",
    "\n",
    "gams_directory = 'C:\\\\GAMS\\\\46'\n",
    "file_path = 'C:\\\\Users\\\\tmad\\\\GitHub\\\\pap1-code\\\\Files'\n",
    "\n",
    "# Load full data\n",
    "scen = ['HHH','HHM','HHL','HMH','HMM','HML','HLH','HLM','HLL','MHH','MHM','MHL','MMH','MMM','MML','MLH','MLM','MLL','LHH','LHM','LHL','LMH','LMM','LML','LLH','LLM','LLL']\n",
    "bal = ['F_CONS_YCRA','G_CAP_YCRAF','X_CAP_YCR','XH2_CAP_YCR','CC_YCRAG']\n",
    "opt = ['VFLOWCCU_C','VFLOW_Opti_C']\n",
    "GDX_full = gdx_to_dict(bal,opt,scen,gams_directory,file_path)"
   ]
  },
  {
   "cell_type": "markdown",
   "metadata": {},
   "source": [
    "## Heat map 2"
   ]
  },
  {
   "cell_type": "code",
   "execution_count": 35,
   "metadata": {},
   "outputs": [
    {
     "data": {
      "image/png": "[encoded data removed]",
      "text/plain": [
       "<Figure size 650x700 with 8 Axes>"
      ]
     },
     "metadata": {},
     "output_type": "display_data"
    }
   ],
   "source": [
    "# Fuel production\n",
    "df_production = GDX_full['VFLOW_Opti_C']\n",
    "df_production.rename(columns={'level_0':'Year','level_1':'Country','level_2':'Source','level_3':'Destination','level_4':'Flow'},inplace=True)\n",
    "\n",
    "bioFT = ['BioJet_Eff','BioGasoline_Eff']\n",
    "methupg = ['EME_Gasoline_Eff','EME_LPG_Eff','EME_Jet_Eff']\n",
    "ammonia = ['Ammonia_Eff']\n",
    "methanol = ['Methanol_Eff','EMethanol_Eff']\n",
    "\n",
    "year = '2050'\n",
    "biomass_order = ['Hi bio','Med bio','Lo bio']\n",
    "VRE_Demand_order = [('L','L'),('M','L'),('H','L'),('L','M'),('M','M'),('H','M'),('L','H'),('M','H'),('H','H')]\n",
    "\n",
    "mapbio = {'L':'Lo bio', 'M':'Med bio','H':'Hi bio'}\n",
    "\n",
    "length = 25\n",
    "width = 0.75\n",
    "\n",
    "plt.rcParams[\"font.family\"] = \"serif\"\n",
    "\n",
    "BioJet = df_production[(df_production['Year'] == year) & (df_production['Destination'].isin(bioFT)) & (~df_production['Source'].str.contains('Exim'))]\n",
    "BioJet = BioJet.groupby('Scenario')['Value'].sum() / 3.6 # PJ -> TWh\n",
    "BioJet = BioJet.reset_index()\n",
    "BioJet['Biomass'] = BioJet['Scenario'].str[0].map(mapbio)\n",
    "BioJet['VRE'] = BioJet['Scenario'].str[1]\n",
    "BioJet['Demand'] = BioJet['Scenario'].str[2]\n",
    "BioJet = BioJet.pivot(index='Biomass', columns=['VRE','Demand'], values='Value')\n",
    "BioJet = BioJet.reindex(biomass_order, axis=0)\n",
    "BioJet = BioJet[VRE_Demand_order]\n",
    "\n",
    "Methupg = df_production[(df_production['Year'] == year) & (df_production['Destination'].isin(methupg)) & (~df_production['Source'].str.contains('Exim'))]\n",
    "Methupg = Methupg.groupby('Scenario')['Value'].sum() / 3.6 # PJ -> TWh\n",
    "Methupg = Methupg.reset_index()\n",
    "Methupg['Biomass'] = Methupg['Scenario'].str[0].map(mapbio)\n",
    "Methupg['VRE'] = Methupg['Scenario'].str[1]\n",
    "Methupg['Demand'] = Methupg['Scenario'].str[2]\n",
    "Methupg = Methupg.pivot(index='Biomass', columns=['VRE','Demand'], values='Value')\n",
    "Methupg = Methupg.reindex(biomass_order, axis=0)\n",
    "Methupg = Methupg[VRE_Demand_order]\n",
    "\n",
    "Ammonia = df_production[(df_production['Year'] == year) & (df_production['Destination'].isin(ammonia)) & (~df_production['Source'].str.contains('Exim'))]\n",
    "Ammonia = Ammonia.groupby('Scenario')['Value'].sum() / 3.6 # PJ -> TWh\n",
    "Ammonia = Ammonia.reset_index()\n",
    "Ammonia['Biomass'] = Ammonia['Scenario'].str[0].map(mapbio)\n",
    "Ammonia['VRE'] = Ammonia['Scenario'].str[1]\n",
    "Ammonia['Demand'] = Ammonia['Scenario'].str[2]\n",
    "Ammonia = Ammonia.pivot(index='Biomass', columns=['VRE','Demand'], values='Value')\n",
    "Ammonia = Ammonia.reindex(biomass_order, axis=0)\n",
    "Ammonia = Ammonia[VRE_Demand_order]\n",
    "\n",
    "Methanol = df_production[(df_production['Year'] == year) & (df_production['Destination'].isin(methanol)) & (~df_production['Source'].str.contains('Exim'))]\n",
    "Methanol = Methanol.groupby('Scenario')['Value'].sum() / 3.6 # PJ -> TWh\n",
    "Methanol = Methanol.reset_index()\n",
    "Methanol['Biomass'] = Methanol['Scenario'].str[0].map(mapbio)\n",
    "Methanol['VRE'] = Methanol['Scenario'].str[1]\n",
    "Methanol['Demand'] = Methanol['Scenario'].str[2]\n",
    "Methanol = Methanol.pivot(index='Biomass', columns=['VRE','Demand'], values='Value')\n",
    "Methanol = Methanol.reindex(biomass_order, axis=0)\n",
    "Methanol = Methanol[VRE_Demand_order]\n",
    "\n",
    "fig, axes = plt.subplots(4, 1, figsize=(6.5, 7))\n",
    "\n",
    "sns.heatmap(BioJet, annot=True, fmt='.0f', cmap='summer_r', ax=axes[0], cbar=True,linewidths=1,vmax=700,vmin=100, cbar_kws={'label': 'TWh','shrink': 0.9})\n",
    "sns.heatmap(Methupg, annot=True, fmt='.0f', cmap='GnBu', ax=axes[1], cbar=True,linewidths=1,vmax=500,vmin=0, cbar_kws={'label': 'TWh','shrink': 0.9})\n",
    "sns.heatmap(Ammonia, annot=True, fmt='.0f', cmap='OrRd', ax=axes[2], cbar=True,linewidths=1,vmax=500,vmin=150, cbar_kws={'label': 'TWh','shrink': 0.9})\n",
    "sns.heatmap(Methanol, annot=True, fmt='.0f', cmap='BuGn', ax=axes[3], cbar=True,linewidths=1,vmax=150,vmin=0, cbar_kws={'label': 'TWh','shrink': 0.9})\n",
    "\n",
    "# Adjust the layout\n",
    "axes[0].xaxis.tick_top()\n",
    "axes[0].set_xlabel('')\n",
    "axes[1].set_xlabel('')\n",
    "axes[2].set_xlabel('')\n",
    "axes[3].set_xlabel('')\n",
    "axes[0].set_ylabel('BioFT')\n",
    "axes[1].set_ylabel('Methanol upg.')\n",
    "axes[2].set_ylabel('Ammonia')\n",
    "axes[3].set_ylabel('Methanol')\n",
    "axes[0].tick_params(axis='x',top=False,labeltop=False)\n",
    "axes[1].tick_params(axis='x',bottom=False,labelbottom=False)\n",
    "axes[2].tick_params(axis='x',bottom=False,labelbottom=False)\n",
    "axes[3].tick_params(axis='x',bottom=False,labelbottom=False)\n",
    "axes[0].tick_params(axis='y',length=0)\n",
    "axes[1].tick_params(axis='y',length=0)\n",
    "axes[2].tick_params(axis='y',length=0)\n",
    "axes[3].tick_params(axis='y',length=0)\n",
    "\n",
    "sec00 = axes[0].secondary_xaxis(location=1)\n",
    "sec00.set_xticks([3,6],labels=[])\n",
    "sec00.tick_params('x',length=length/1.5,width=width)\n",
    "sec0 = axes[0].secondary_yaxis(location=0)\n",
    "sec0.set_yticks([3],labels=[])\n",
    "sec0.tick_params('y',length=length,width=width)\n",
    "sec1 = axes[1].secondary_yaxis(location=0)\n",
    "sec1.set_yticks([3],labels=[])\n",
    "sec1.tick_params('y',length=length,width=width)\n",
    "sec2 = axes[2].secondary_yaxis(location=0)\n",
    "sec2.set_yticks([3],labels=[])\n",
    "sec2.tick_params('y',length=length,width=width)\n",
    "sec3 = axes[3].secondary_yaxis(location=0)\n",
    "sec3.set_yticks([3],labels=[])\n",
    "sec3.tick_params('y',length=length,width=width)\n",
    "\n",
    "sectop = axes[0].secondary_xaxis(location=1)\n",
    "sectop.set_xticks([0.18,4.5,7.5],labels=['Demand:            Low','Medium','High'])\n",
    "sectop.tick_params('x',length=0,width=0.75, pad=25)\n",
    "sectop2 = axes[0].secondary_xaxis(location=1)\n",
    "sectop2.set_xticks([0,1.5,2.5,3.5,4.5,5.5,6.5,7.5,8.5],labels=['VRE:   Lo','Me','Hi','Lo','Me','Hi','Lo','Me','Hi'])\n",
    "sectop2.tick_params('x',length=0,width=0.75)\n",
    "\n",
    "# Adjust the spacing between subplots\n",
    "plt.tight_layout()\n",
    "plt.subplots_adjust(hspace=0)\n"
   ]
  },
  {
   "cell_type": "markdown",
   "metadata": {},
   "source": [
    "## Pipeline plot"
   ]
  },
  {
   "cell_type": "code",
   "execution_count": 10,
   "metadata": {},
   "outputs": [
    {
     "name": "stderr",
     "output_type": "stream",
     "text": [
      "C:\\Users\\tmad\\AppData\\Local\\Temp\\ipykernel_17236\\3372232288.py:8: SettingWithCopyWarning: \n",
      "A value is trying to be set on a copy of a slice from a DataFrame.\n",
      "Try using .loc[row_indexer,col_indexer] = value instead\n",
      "\n",
      "See the caveats in the documentation: https://pandas.pydata.org/pandas-docs/stable/user_guide/indexing.html#returning-a-view-versus-a-copy\n",
      "  hydrogen_capacity['Country'] = hydrogen_capacity['Country'].map(change_country_label)\n"
     ]
    },
    {
     "data": {
      "image/png": "[encoded data removed]",
      "text/plain": [
       "<Figure size 800x800 with 1 Axes>"
      ]
     },
     "metadata": {},
     "output_type": "display_data"
    }
   ],
   "source": [
    "# Setting\n",
    "year = '2050'\n",
    "\n",
    "# Load data\n",
    "df_XH2 = GDX_full['XH2_CAP_YCR']\n",
    "df_XH2.rename(columns={'level_0':'Year','level_1':'Country','level_2':'Region1','level_3':'Region2','level_4':'Variable','level_9':'Unit'},inplace=True)\n",
    "hydrogen_capacity = df_XH2[(df_XH2['Year'] == year)]\n",
    "hydrogen_capacity['Country'] = hydrogen_capacity['Country'].map(change_country_label)\n",
    "hydrogen_capacity_all = hydrogen_capacity.groupby(['Country','Scenario'])['Value'].sum()\n",
    "hydrogen_capacity_ordered = hydrogen_capacity.groupby(['Country'])['Value'].sum().sort_values(ascending=False)\n",
    "hydrogen_capacity_all = hydrogen_capacity_all.reset_index()\n",
    "hydrogen_capacity_all['Demand'] = hydrogen_capacity_all['Scenario'].str[2]\n",
    "hydrogen_capacity_all['Demand'] = hydrogen_capacity_all['Demand'].map({'L':'Low','M':'Medium','H':'High'})\n",
    "\n",
    "plt.rcParams[\"font.family\"] = \"serif\"\n",
    "\n",
    "fig, axes = plt.subplots(1, 1, figsize=(8, 8))\n",
    "vp = sns.violinplot(y =\"Country\", x =\"Value\", hue=\"Demand\", legend=False, data = hydrogen_capacity_all, ax=axes, cut=0, hue_order=['High','Medium','Low'], order=hydrogen_capacity_ordered.index, dodge=True, inner='stick', gap=0.5, fill = True, linecolor='cornflowerblue')\n",
    "axes.xaxis.set_label_text('Capacity [GW]')\n",
    "axes.yaxis.set_label_text('')\n",
    "axes.set_xlim(0, 120)\n",
    "\n",
    "for x in np.arange(0, 140, 20):\n",
    "    axes.axvline(x=x, color='grey', linestyle=(0,(5,10)), linewidth=0.8, zorder=0)\n",
    "\n",
    "plt.tight_layout()\n"
   ]
  }
 ],
 "metadata": {
  "kernelspec": {
   "display_name": ".venv",
   "language": "python",
   "name": "python3"
  },
  "language_info": {
   "codemirror_mode": {
    "name": "ipython",
    "version": 3
   },
   "file_extension": ".py",
   "mimetype": "text/x-python",
   "name": "python",
   "nbconvert_exporter": "python",
   "pygments_lexer": "ipython3",
   "version": "3.12.1"
  }
 },
 "nbformat": 4,
 "nbformat_minor": 2
}
